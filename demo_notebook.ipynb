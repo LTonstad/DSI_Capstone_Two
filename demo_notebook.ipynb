{
 "cells": [
  {
   "cell_type": "code",
   "execution_count": 1,
   "metadata": {},
   "outputs": [],
   "source": [
    "import numpy as np\n",
    "import pandas as pd\n",
    "from tensorflow import keras\n",
    "from sportsreference.nba.roster import Player"
   ]
  },
  {
   "cell_type": "markdown",
   "metadata": {},
   "source": [
    "# Demo"
   ]
  },
  {
   "cell_type": "code",
   "execution_count": 2,
   "metadata": {},
   "outputs": [],
   "source": [
    "woj_net = keras.models.load_model('models/logcosh.h5')"
   ]
  },
  {
   "cell_type": "code",
   "execution_count": 5,
   "metadata": {},
   "outputs": [],
   "source": [
    "def ask_woj(player_name):\n",
    "    current_player_features = ['contract_total', 'contract_length', 'current_salary', 'current_avg_salary', 'current_team']\n",
    "    non_stats = ['salary', 'year','nationality', 'position', 'birth_date', 'year_list', 'team_abbreviation', 'player_id', 'name', 'salary']\n",
    "    \n",
    "    df_current_players = pd.read_csv('data/current_players.csv')\n",
    "\n",
    "    df_player = df_current_players[df_current_players['name'] == str(player_name).title()]\n",
    "    player_id = df_player['player_id'].iloc[0]\n",
    "    year_info = df_player[df_player['age'] == df_player['age'].values[-2]]\n",
    "    df_player = df_player[df_player['age'] == df_player['age'].values[-2]]\n",
    "    df_player = df_player.drop(non_stats, axis=1)\n",
    "    df_player = df_player.drop(current_player_features, axis=1)\n",
    "    df_player = df_player.drop('Unnamed: 0', axis=1)\n",
    "    df_player = df_player.astype('float64')\n",
    "\n",
    "    sal = df_player['avg_salary']\n",
    "    stats = df_player.drop('avg_salary', axis=1)\n",
    "\n",
    "    # Getting mean of current supermax deals for lowest and highest supermax teamss\n",
    "    supamax = ((95671+168750607)/2)*.35\n",
    "    supamax\n",
    "    \n",
    "    player = Player(player_id)\n",
    "    contract = player.contract\n",
    "    current_salary = contract['2020-21']\n",
    "    \n",
    "    sal_num = str(current_salary).replace(',','').replace('$','')\n",
    "    sal_num = float(sal_num)\n",
    "    \n",
    "    if sal_num > supamax: # Roughly what a supermax salary would be, though is dependent on teams salary cap\n",
    "        multiplier = 18\n",
    "    else:\n",
    "        multiplier = 7\n",
    "    print(f'multiplier: {multiplier}', '\\n')\n",
    "    \n",
    "    prediction = woj_net.predict(stats)\n",
    "    mod_prediction = prediction[0][0]*multiplier\n",
    "    mod_min = mod_prediction - (201332 * multiplier) # mae from Woj_net\n",
    "    mod_max = mod_prediction + (201332 * multiplier)\n",
    "    modified_prediction = \"${:,.2f}\".format(mod_prediction)\n",
    "    print(f'Precise prediction from Woj: {modified_prediction}', '\\n')\n",
    "    \n",
    "    modified_min = \"${:,.2f}\".format(mod_min)\n",
    "    modified_max = \"${:,.2f}\".format(mod_max)\n",
    "    print(f'Woj_net says this year that {player.name} should be paid between: {modified_min} - {modified_max}', '\\n')\n",
    "    print(f'{player.name} actually paid {current_salary}', '\\n')\n",
    "    \n",
    "    if sal_num > mod_max:\n",
    "        mod_net = \"${:,.2f}\".format(sal_num - mod_max)\n",
    "        print(f'Woj_net believes {player.name} is getting overpaid this year by about {mod_net}')\n",
    "        \n",
    "    elif sal_num < mod_min:\n",
    "        mod_net = \"${:,.2f}\".format(mod_min - sal_num)\n",
    "        print(f'Woj_net believes {player.name} is getting underpaid this year by about {mod_net}')\n",
    "        \n",
    "    else:\n",
    "        print(f'Woj_net believes {player.name} is getting paid properly this year :)')\n",
    "    \n",
    "    return year_info.T"
   ]
  },
  {
   "cell_type": "code",
   "execution_count": 6,
   "metadata": {},
   "outputs": [
    {
     "name": "stdout",
     "output_type": "stream",
     "text": [
      "multiplier: 7 \n",
      "\n",
      "Precise prediction from Woj: $2,683,553.47 \n",
      "\n",
      "Woj_net says this year that Seth Curry should be paid between: $1,274,229.47 - $4,092,877.47 \n",
      "\n",
      "Seth Curry actually paid $7,813,953 \n",
      "\n",
      "Woj_net believes Seth Curry is getting overpaid this year by about $3,721,075.53\n"
     ]
    },
    {
     "data": {
      "text/html": [
       "<div>\n",
       "<style scoped>\n",
       "    .dataframe tbody tr th:only-of-type {\n",
       "        vertical-align: middle;\n",
       "    }\n",
       "\n",
       "    .dataframe tbody tr th {\n",
       "        vertical-align: top;\n",
       "    }\n",
       "\n",
       "    .dataframe thead th {\n",
       "        text-align: right;\n",
       "    }\n",
       "</style>\n",
       "<table border=\"1\" class=\"dataframe\">\n",
       "  <thead>\n",
       "    <tr style=\"text-align: right;\">\n",
       "      <th></th>\n",
       "      <th>17</th>\n",
       "    </tr>\n",
       "  </thead>\n",
       "  <tbody>\n",
       "    <tr>\n",
       "      <th>Unnamed: 0</th>\n",
       "      <td>39</td>\n",
       "    </tr>\n",
       "    <tr>\n",
       "      <th>assist_percentage</th>\n",
       "      <td>6.5</td>\n",
       "    </tr>\n",
       "    <tr>\n",
       "      <th>assists</th>\n",
       "      <td>66.0</td>\n",
       "    </tr>\n",
       "    <tr>\n",
       "      <th>block_percentage</th>\n",
       "      <td>0.7</td>\n",
       "    </tr>\n",
       "    <tr>\n",
       "      <th>blocks</th>\n",
       "      <td>12.0</td>\n",
       "    </tr>\n",
       "    <tr>\n",
       "      <th>...</th>\n",
       "      <td>...</td>\n",
       "    </tr>\n",
       "    <tr>\n",
       "      <th>contract_total</th>\n",
       "      <td>24558140.0</td>\n",
       "    </tr>\n",
       "    <tr>\n",
       "      <th>contract_length</th>\n",
       "      <td>3.0</td>\n",
       "    </tr>\n",
       "    <tr>\n",
       "      <th>current_salary</th>\n",
       "      <td>7813953.0</td>\n",
       "    </tr>\n",
       "    <tr>\n",
       "      <th>current_avg_salary</th>\n",
       "      <td>8186046.666667</td>\n",
       "    </tr>\n",
       "    <tr>\n",
       "      <th>current_team</th>\n",
       "      <td>NaN</td>\n",
       "    </tr>\n",
       "  </tbody>\n",
       "</table>\n",
       "<p>77 rows × 1 columns</p>\n",
       "</div>"
      ],
      "text/plain": [
       "                                17\n",
       "Unnamed: 0                      39\n",
       "assist_percentage              6.5\n",
       "assists                       66.0\n",
       "block_percentage               0.7\n",
       "blocks                        12.0\n",
       "...                            ...\n",
       "contract_total          24558140.0\n",
       "contract_length                3.0\n",
       "current_salary           7813953.0\n",
       "current_avg_salary  8186046.666667\n",
       "current_team                   NaN\n",
       "\n",
       "[77 rows x 1 columns]"
      ]
     },
     "execution_count": 6,
     "metadata": {},
     "output_type": "execute_result"
    }
   ],
   "source": [
    "ask_woj('seth curry')"
   ]
  },
  {
   "cell_type": "code",
   "execution_count": null,
   "metadata": {},
   "outputs": [],
   "source": []
  }
 ],
 "metadata": {
  "kernelspec": {
   "display_name": "Python 3",
   "language": "python",
   "name": "python3"
  },
  "language_info": {
   "codemirror_mode": {
    "name": "ipython",
    "version": 3
   },
   "file_extension": ".py",
   "mimetype": "text/x-python",
   "name": "python",
   "nbconvert_exporter": "python",
   "pygments_lexer": "ipython3",
   "version": "3.7.9"
  }
 },
 "nbformat": 4,
 "nbformat_minor": 4
}
