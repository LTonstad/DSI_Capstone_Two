{
 "cells": [
  {
   "cell_type": "code",
   "execution_count": 1,
   "metadata": {},
   "outputs": [],
   "source": [
    "from src.woj_functions import *"
   ]
  },
  {
   "cell_type": "markdown",
   "metadata": {},
   "source": [
    "# Demo"
   ]
  },
  {
   "cell_type": "code",
   "execution_count": 2,
   "metadata": {},
   "outputs": [
    {
     "name": "stdout",
     "output_type": "stream",
     "text": [
      "multiplier: 7 \n",
      "\n",
      "Precise prediction from Woj: $15,137,050.25 \n",
      "\n",
      "Woj_net says this year that Jrue Holiday should be paid between: $13,727,726.25 - $16,546,374.25 \n",
      "\n",
      "Jrue Holiday actually paid $26,131,111 \n",
      "\n",
      "Woj_net believes Jrue Holiday is getting overpaid this year by about $10,994,060.75\n"
     ]
    },
    {
     "data": {
      "text/html": [
       "<div>\n",
       "<style scoped>\n",
       "    .dataframe tbody tr th:only-of-type {\n",
       "        vertical-align: middle;\n",
       "    }\n",
       "\n",
       "    .dataframe tbody tr th {\n",
       "        vertical-align: top;\n",
       "    }\n",
       "\n",
       "    .dataframe thead th {\n",
       "        text-align: right;\n",
       "    }\n",
       "</style>\n",
       "<table border=\"1\" class=\"dataframe\">\n",
       "  <thead>\n",
       "    <tr style=\"text-align: right;\">\n",
       "      <th></th>\n",
       "      <th>Unnamed: 0</th>\n",
       "      <th>assist_percentage</th>\n",
       "      <th>assists</th>\n",
       "      <th>block_percentage</th>\n",
       "      <th>blocks</th>\n",
       "      <th>box_plus_minus</th>\n",
       "      <th>defensive_box_plus_minus</th>\n",
       "      <th>defensive_rebound_percentage</th>\n",
       "      <th>defensive_rebounds</th>\n",
       "      <th>defensive_win_shares</th>\n",
       "      <th>...</th>\n",
       "      <th>age</th>\n",
       "      <th>avg_salary</th>\n",
       "      <th>years_played</th>\n",
       "      <th>year_list</th>\n",
       "      <th>current_player</th>\n",
       "      <th>contract_total</th>\n",
       "      <th>contract_length</th>\n",
       "      <th>current_salary</th>\n",
       "      <th>current_avg_salary</th>\n",
       "      <th>current_team</th>\n",
       "    </tr>\n",
       "  </thead>\n",
       "  <tbody>\n",
       "    <tr>\n",
       "      <th>468</th>\n",
       "      <td>468</td>\n",
       "      <td>31.8</td>\n",
       "      <td>518.0</td>\n",
       "      <td>1.8</td>\n",
       "      <td>54.0</td>\n",
       "      <td>3.0</td>\n",
       "      <td>-0.1</td>\n",
       "      <td>11.0</td>\n",
       "      <td>259.0</td>\n",
       "      <td>1.9</td>\n",
       "      <td>...</td>\n",
       "      <td>28.5</td>\n",
       "      <td>2.164676e+06</td>\n",
       "      <td>12</td>\n",
       "      <td>['2009-10', '2010-11', '2011-12', '2012-13', '...</td>\n",
       "      <td>True</td>\n",
       "      <td>53151111.0</td>\n",
       "      <td>2.0</td>\n",
       "      <td>26131111.0</td>\n",
       "      <td>26575555.5</td>\n",
       "      <td>MIL</td>\n",
       "    </tr>\n",
       "  </tbody>\n",
       "</table>\n",
       "<p>1 rows × 77 columns</p>\n",
       "</div>"
      ],
      "text/plain": [
       "     Unnamed: 0  assist_percentage  assists  block_percentage  blocks  \\\n",
       "468         468               31.8    518.0               1.8    54.0   \n",
       "\n",
       "     box_plus_minus  defensive_box_plus_minus  defensive_rebound_percentage  \\\n",
       "468             3.0                      -0.1                          11.0   \n",
       "\n",
       "     defensive_rebounds  defensive_win_shares  ...   age    avg_salary  \\\n",
       "468               259.0                   1.9  ...  28.5  2.164676e+06   \n",
       "\n",
       "     years_played                                          year_list  \\\n",
       "468            12  ['2009-10', '2010-11', '2011-12', '2012-13', '...   \n",
       "\n",
       "     current_player  contract_total  contract_length  current_salary  \\\n",
       "468            True      53151111.0              2.0      26131111.0   \n",
       "\n",
       "     current_avg_salary  current_team  \n",
       "468          26575555.5           MIL  \n",
       "\n",
       "[1 rows x 77 columns]"
      ]
     },
     "execution_count": 2,
     "metadata": {},
     "output_type": "execute_result"
    }
   ],
   "source": [
    "ask_woj('Jrue Holiday')"
   ]
  },
  {
   "cell_type": "code",
   "execution_count": null,
   "metadata": {},
   "outputs": [],
   "source": []
  }
 ],
 "metadata": {
  "kernelspec": {
   "display_name": "Python 3",
   "language": "python",
   "name": "python3"
  },
  "language_info": {
   "codemirror_mode": {
    "name": "ipython",
    "version": 3
   },
   "file_extension": ".py",
   "mimetype": "text/x-python",
   "name": "python",
   "nbconvert_exporter": "python",
   "pygments_lexer": "ipython3",
   "version": "3.7.9"
  }
 },
 "nbformat": 4,
 "nbformat_minor": 4
}
